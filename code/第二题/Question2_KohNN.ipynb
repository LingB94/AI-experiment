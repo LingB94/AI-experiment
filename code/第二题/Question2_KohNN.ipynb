{
 "cells": [
  {
   "cell_type": "code",
   "execution_count": 49,
   "metadata": {},
   "outputs": [],
   "source": [
    "import pandas as pd\n",
    "import numpy as np\n",
    "import time"
   ]
  },
  {
   "cell_type": "code",
   "execution_count": 62,
   "metadata": {},
   "outputs": [],
   "source": [
    "def read_tsp(size):\n",
    "    if(size == 10):\n",
    "        f = open('TSP10cities.tsp')\n",
    "    if(size == 100):\n",
    "        f = open('TSP100cities.tsp')\n",
    "    cities = pd.read_csv(\n",
    "        f,\n",
    "        sep=' ',\n",
    "        names=['city', 'x', 'y'],\n",
    "        dtype={'city': int, 'x': np.float64, 'y': np.float64}\n",
    "    )\n",
    "    return cities\n",
    "\n",
    "#归一化\n",
    "def normalize(points):\n",
    "    ratio = (points.x.max() - points.x.min()) / (points.y.max() - points.y.min()), 1\n",
    "    ratio = np.array(ratio) / max(ratio)\n",
    "    norm = points.apply(lambda c: (c - c.min()) / (c.max() - c.min()))\n",
    "    return norm.apply(lambda p: ratio * p, axis=1)"
   ]
  },
  {
   "cell_type": "code",
   "execution_count": 52,
   "metadata": {},
   "outputs": [],
   "source": [
    "def select_closest(candidates, origin):\n",
    "    return euclidean_distance(candidates, origin).argmin()\n",
    "\n",
    "def euclidean_distance(a, b):\n",
    "    return np.linalg.norm(a - b, axis=1)\n",
    "\n",
    "def route_distance(cities):\n",
    "    points = cities[['x', 'y']]\n",
    "    distances = euclidean_distance(points, np.roll(points, 1, axis=0))\n",
    "    return np.sum(distances)"
   ]
  },
  {
   "cell_type": "code",
   "execution_count": 53,
   "metadata": {},
   "outputs": [],
   "source": [
    "def generate_network(size):\n",
    "    return np.random.rand(size, 2)\n",
    "\n",
    "def get_neighborhood(center, radix, domain):\n",
    "    if radix < 1:\n",
    "        radix = 1\n",
    "    deltas = np.absolute(center - np.arange(domain))\n",
    "    distances = np.minimum(deltas, domain - deltas)\n",
    "    return np.exp(-(distances*distances) / (2*(radix*radix)))\n",
    "\n",
    "def get_route(cities, network):\n",
    "    cities['winner'] = cities[['x', 'y']].apply(\n",
    "        lambda c: select_closest(network, c),\n",
    "        axis=1, raw=True)\n",
    "    return cities.sort_values('winner').index"
   ]
  },
  {
   "cell_type": "code",
   "execution_count": 99,
   "metadata": {},
   "outputs": [],
   "source": [
    "def kohNN(data, iterations, learning_rate=0.8):\n",
    "    cities = data.copy()\n",
    "    cities[['x', 'y']] = normalize(cities[['x', 'y']])\n",
    "    n = cities.shape[0] * 8\n",
    "    network = generate_network(n)\n",
    "    print('网络具有{}个神经元'.format(n))\n",
    "\n",
    "    for i in range(iterations):\n",
    "        if not i % 100:\n",
    "            print('第{}次迭代'.format(i, iterations), end=\"\\r\")\n",
    "        city = cities.sample(1)[['x', 'y']].values\n",
    "        winner_idx = select_closest(network, city)\n",
    "        gaussian = get_neighborhood(winner_idx, n//10, network.shape[0])\n",
    "        network += gaussian[:,np.newaxis] * learning_rate * (city - network)\n",
    "        route_tmp = get_route(cities, network)\n",
    "        data = data.reindex(route_tmp)\n",
    "        d = route_distance(data)\n",
    "        iter_record.append(i)\n",
    "        dist_record.append(d)\n",
    "        #衰减\n",
    "        learning_rate = learning_rate * 0.99997\n",
    "        n = n * 0.9997\n",
    "        if n < 1:\n",
    "            print('领域衰减完成于第{}次迭代'.format(i))\n",
    "            break\n",
    "        if learning_rate < 0.001:\n",
    "            print('学习率衰减完成于第{}次迭代'.format(i))\n",
    "            break\n",
    "    else:\n",
    "        print('共进行{}次迭代'.format(iterations))\n",
    "    route = get_route(cities, network)\n",
    "\n",
    "    return route"
   ]
  },
  {
   "cell_type": "markdown",
   "metadata": {},
   "source": [
    "问题规模为n = 10"
   ]
  },
  {
   "cell_type": "code",
   "execution_count": 100,
   "metadata": {},
   "outputs": [
    {
     "name": "stdout",
     "output_type": "stream",
     "text": [
      "网络具有80个神经元\n",
      "领域衰减完成于第14604次迭代\n"
     ]
    }
   ],
   "source": [
    "iter_record = []\n",
    "dist_record = []\n",
    "data = read_tsp(10)\n",
    "start = time.clock()\n",
    "route = kohNN(data, 100000)\n",
    "end = time.clock()"
   ]
  },
  {
   "cell_type": "code",
   "execution_count": 101,
   "metadata": {},
   "outputs": [
    {
     "name": "stdout",
     "output_type": "stream",
     "text": [
      "经过14604次迭代，获得的总距离为：10127.552143541277\n",
      "到收敛时经过时间为：66.95210598289805\n",
      "遍历城市顺序为：[5, 8, 9, 0, 4, 6, 7, 1, 3, 2]\n"
     ]
    }
   ],
   "source": [
    "print(\"经过{}次迭代，获得的总距离为：{}\".format(iter_record[-1], dist_record[-1]))\n",
    "print(\"到收敛时经过时间为：{}\".format(end - start));\n",
    "print(\"遍历城市顺序为：{}\".format(list(route)))"
   ]
  },
  {
   "cell_type": "code",
   "execution_count": 104,
   "metadata": {},
   "outputs": [
    {
     "data": {
      "image/png": "[encoded data removed]",
      "text/plain": [
       "<Figure size 432x288 with 1 Axes>"
      ]
     },
     "metadata": {
      "needs_background": "light"
     },
     "output_type": "display_data"
    }
   ],
   "source": [
    "plt.plot(iter_record, dist_record);\n",
    "plt.xlabel(\"Iter Number\");\n",
    "plt.ylabel(\"Total Distance\");"
   ]
  },
  {
   "cell_type": "markdown",
   "metadata": {},
   "source": [
    "问题规模为n = 100"
   ]
  },
  {
   "cell_type": "code",
   "execution_count": 91,
   "metadata": {},
   "outputs": [
    {
     "name": "stdout",
     "output_type": "stream",
     "text": [
      "网络具有800个神经元\n",
      "领域衰减完成于第22278次迭代\n"
     ]
    }
   ],
   "source": [
    "iter_record = []\n",
    "dist_record = []\n",
    "data = read_tsp(100)\n",
    "start = time.clock()\n",
    "route = kohNN(data, 100000)\n",
    "end = time.clock()"
   ]
  },
  {
   "cell_type": "code",
   "execution_count": 92,
   "metadata": {},
   "outputs": [
    {
     "name": "stdout",
     "output_type": "stream",
     "text": [
      "经过22278次迭代，获得的总距离为：24864.187826530295\n",
      "到收敛时经过时间为：165.68145885193167\n",
      "遍历城市顺序为：[4, 89, 11, 98, 94, 62, 56, 12, 65, 78, 66, 49, 51, 39, 54, 9, 30, 57, 35, 29, 27, 77, 76, 71, 70, 59, 46, 1, 33, 88, 86, 53, 60, 83, 14, 48, 20, 26, 96, 91, 84, 19, 69, 34, 7, 55, 24, 37, 41, 47, 3, 43, 99, 79, 42, 63, 44, 50, 64, 38, 74, 25, 87, 52, 68, 16, 61, 32, 17, 92, 45, 23, 0, 21, 72, 97, 80, 67, 93, 73, 95, 28, 22, 58, 82, 15, 13, 8, 90, 75, 10, 85, 18, 2, 6, 40, 31, 36, 81, 5]\n"
     ]
    }
   ],
   "source": [
    "print(\"经过{}次迭代，获得的总距离为：{}\".format(iter_record[-1], dist_record[-1]))\n",
    "print(\"到收敛时经过时间为：{}\".format(end - start));\n",
    "print(\"遍历城市顺序为：{}\".format(list(route)))"
   ]
  },
  {
   "cell_type": "code",
   "execution_count": 93,
   "metadata": {},
   "outputs": [
    {
     "data": {
      "image/png": "[encoded data removed]",
      "text/plain": [
       "<Figure size 432x288 with 1 Axes>"
      ]
     },
     "metadata": {
      "needs_background": "light"
     },
     "output_type": "display_data"
    }
   ],
   "source": [
    "plt.plot(iter_record, dist_record);\n",
    "plt.xlabel(\"Iter Number\");\n",
    "plt.ylabel(\"Total Distance\");"
   ]
  }
 ],
 "metadata": {
  "kernelspec": {
   "display_name": "Python 3",
   "language": "python",
   "name": "python3"
  },
  "language_info": {
   "codemirror_mode": {
    "name": "ipython",
    "version": 3
   },
   "file_extension": ".py",
   "mimetype": "text/x-python",
   "name": "python",
   "nbconvert_exporter": "python",
   "pygments_lexer": "ipython3",
   "version": "3.6.8"
  }
 },
 "nbformat": 4,
 "nbformat_minor": 2
}
