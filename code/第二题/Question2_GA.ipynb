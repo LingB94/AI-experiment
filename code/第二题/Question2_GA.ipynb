{
 "cells": [
  {
   "cell_type": "markdown",
   "metadata": {},
   "source": [
    "遗传算法解决TSP问题"
   ]
  },
  {
   "cell_type": "code",
   "execution_count": 212,
   "metadata": {},
   "outputs": [],
   "source": [
    "import pandas as pd;\n",
    "import numpy as np;\n",
    "import random;\n",
    "import math;\n",
    "import matplotlib.pyplot as plt;\n",
    "import time;"
   ]
  },
  {
   "cell_type": "code",
   "execution_count": 213,
   "metadata": {},
   "outputs": [],
   "source": [
    "#基因序列类\n",
    "class geneCode(object):\n",
    "    def __init__(self, code = None):\n",
    "        self.gene = code;\n",
    "        self.ada_val = -1;\n",
    "        \n",
    "#遗传算法类\n",
    "class GA(object):\n",
    "    def __init__(self, indiCount, aCrossRate, aChangeRate, codeLength, Fun):\n",
    "        self.group = [];\n",
    "        self.best = None;\n",
    "        self.groupCnt = indiCount;\n",
    "        self.generation = 1;\n",
    "        self.crossRate = aCrossRate;\n",
    "        self.changeRate = aChangeRate;\n",
    "        self.crossCnt = 0;\n",
    "        self.changeCnt = 0;\n",
    "        self.num_city = codeLength;\n",
    "        self.match = Fun;\n",
    "        self.sum_ada = 0.0;\n",
    "        self.initGroup();\n",
    "         \n",
    "    def initGroup(self):\n",
    "        self.group = [];\n",
    "        for i in range(self.groupCnt):\n",
    "            gene = list(range(self.num_city));\n",
    "            random.shuffle(gene);\n",
    "            indi = geneCode(gene);\n",
    "            self.group.append(indi);\n",
    " \n",
    "    def cross(self, parent1, parent2):\n",
    "        index1 = random.randint(0, self.num_city - 1)\n",
    "        index2 = random.randint(index1, self.num_city - 1)\n",
    "        tempGene = parent2.gene[index1:index2]                  \n",
    "        newGene = []\n",
    "        p1len = 0\n",
    "        for g in parent1.gene:\n",
    "            if p1len == index1:\n",
    "                newGene.extend(tempGene)                        \n",
    "                p1len += 1\n",
    "            if g not in tempGene:\n",
    "                newGene.append(g)\n",
    "                p1len += 1\n",
    "        self.crossCnt += 1\n",
    "        return newGene \n",
    " \n",
    "    def change(self, gene):\n",
    "        index1 = random.randint(0, self.num_city - 1)\n",
    "        index2 = random.randint(0, self.num_city - 1)\n",
    "        gene[index1], gene[index2] = gene[index2], gene[index1]\n",
    "        self.changeCnt += 1\n",
    "        return gene\n",
    "\n",
    "    #估算个体的适应度\n",
    "    def eval(self):\n",
    "        self.sum_ada = 0.0;\n",
    "        self.best = self.group[0];\n",
    "        for i in self.group:\n",
    "            i.ada_val = self.match(i);\n",
    "            self.sum_ada += i.ada_val;\n",
    "            if self.best.ada_val < i.ada_val:\n",
    "                self.best = i;\n",
    " \n",
    "    def choose(self):\n",
    "        r = random.uniform(0, self.sum_ada)\n",
    "        for i in self.group:\n",
    "            r -= i.ada_val;\n",
    "            if r <= 0:\n",
    "                return i;\n",
    " \n",
    "    def child(self):\n",
    "        parent1 = self.choose();\n",
    "        rate = random.random();\n",
    "        #按概率交叉\n",
    "        if rate < self.crossRate:\n",
    "            parent2 = self.choose();\n",
    "            gene = self.cross(parent1, parent2);\n",
    "        else:\n",
    "            gene = parent1.gene; \n",
    "        #按概率突变\n",
    "        rate = random.random();\n",
    "        if rate < self.changeRate:\n",
    "            gene = self.change(gene);\n",
    "        return geneCode(gene);\n",
    " \n",
    "    def nextGeneration(self):\n",
    "        self.eval();\n",
    "        newGroup = [];\n",
    "        newGroup.append(self.best);\n",
    "        while len(newGroup) < self.groupCnt:\n",
    "            newGroup.append(self.child());\n",
    "        self.group = newGroup;\n",
    "        self.generation += 1;"
   ]
  },
  {
   "cell_type": "code",
   "execution_count": 218,
   "metadata": {},
   "outputs": [],
   "source": [
    "class TSP(object):\n",
    "    def __init__(self, aLifeCount = 100, N = 10):\n",
    "        self.read_data(N);\n",
    "        self.groupCount = aLifeCount;\n",
    "        self.ga = GA(indiCount = self.groupCount, aCrossRate = 0.8, \n",
    "                     aChangeRate = 0.01, codeLength = len(self.cities), Fun = self.match());\n",
    " \n",
    "    def read_data(self, n):\n",
    "        self.cities = [];\n",
    "        if(n == 10):\n",
    "            f=open('TSP10cities.tsp', 'r');\n",
    "        if(n == 100):\n",
    "            f=open('TSP100cities.tsp', 'r');\n",
    "        while True:\n",
    "            x = str(f.readline());\n",
    "            if not x:\n",
    "                break;\n",
    "            x = x.replace(\"\\n\", \"\");\n",
    "            x = x.split();\n",
    "            self.cities.append((float(x[1]),float(x[2]),x[0]));\n",
    " \n",
    "    def distance(self, order):\n",
    "        total_dist = 0.0;\n",
    "        for i in range(-1, len(self.cities) - 1):\n",
    "            index1, index2 = order[i], order[i + 1];\n",
    "            city1, city2 = self.cities[index1], self.cities[index2];\n",
    "            total_dist += math.sqrt(pow((city1[0] - city2[0]), 2) + pow((city1[1] - city2[1]), 2));\n",
    "        return total_dist;\n",
    " \n",
    "    def match(self):\n",
    "        return lambda x: 1.0 / self.distance(x.gene);\n",
    " \n",
    "    def run(self, iter_num = 0):\n",
    "        for i in range(iter_num):\n",
    "            self.ga.nextGeneration();\n",
    "            distance = self.distance(self.ga.best.gene);\n",
    "            if( (dist_record) and (distance == dist_record[-1]) ):\n",
    "                end = time.clock();\n",
    "            iter_record.append(i + 1);\n",
    "            dist_record.append(distance);\n",
    "        print(\"经过%d次迭代，获得的总距离为：%f\"%(self.ga.generation, distance))\n",
    "        print(\"到收敛时经过时间为：%s\" % (end - start));\n",
    "        print(\"遍历城市顺序为：\")\n",
    "        for i in self.ga.best.gene:\n",
    "            print(self.cities[i][2], end = \"->\"),\n"
   ]
  },
  {
   "cell_type": "markdown",
   "metadata": {},
   "source": [
    "问题规模为n = 10"
   ]
  },
  {
   "cell_type": "code",
   "execution_count": 223,
   "metadata": {
    "scrolled": false
   },
   "outputs": [
    {
     "name": "stdout",
     "output_type": "stream",
     "text": [
      "经过1001次迭代，获得的总距离为：10127.552144\n",
      "到收敛时经过时间为：2.1557441538448074\n",
      "遍历城市顺序为：\n",
      "9->6->3->4->2->8->7->5->1->10->"
     ]
    }
   ],
   "source": [
    "iter_record = [];\n",
    "dist_record = [];\n",
    "start = time.clock();\n",
    "x = TSP(N = 10);\n",
    "x.run(1000);"
   ]
  },
  {
   "cell_type": "code",
   "execution_count": 204,
   "metadata": {
    "scrolled": true
   },
   "outputs": [
    {
     "data": {
      "image/png": "[encoded data removed]",
      "text/plain": [
       "<Figure size 432x288 with 1 Axes>"
      ]
     },
     "metadata": {
      "needs_background": "light"
     },
     "output_type": "display_data"
    }
   ],
   "source": [
    "plt.plot(iter_record, dist_record);\n",
    "plt.xlabel(\"Iter Number\");\n",
    "plt.ylabel(\"Total Distance\");"
   ]
  },
  {
   "cell_type": "markdown",
   "metadata": {},
   "source": [
    "问题规模为n = 100"
   ]
  },
  {
   "cell_type": "code",
   "execution_count": 221,
   "metadata": {},
   "outputs": [
    {
     "name": "stdout",
     "output_type": "stream",
     "text": [
      "经过1001次迭代，获得的总距离为：105731.496890\n",
      "到收敛时经过时间为：12.269688569149821\n",
      "遍历城市顺序为：\n",
      "44->1->81->9->19->18->22->26->32->29->46->8->25->35->54->33->39->50->36->13->15->58->60->61->53->12->70->56->48->38->64->24->62->17->34->89->42->41->7->91->37->31->30->49->65->45->68->66->79->67->52->74->69->96->16->14->23->59->6->40->76->10->43->11->20->97->4->21->57->75->63->88->47->71->72->99->82->86->95->90->55->5->87->92->85->84->27->80->100->73->93->98->94->28->2->78->77->51->3->83->"
     ]
    }
   ],
   "source": [
    "iter_record = [];\n",
    "dist_record = [];\n",
    "start = time.clock();\n",
    "x = TSP(N = 100);\n",
    "x.run(1000);"
   ]
  },
  {
   "cell_type": "code",
   "execution_count": 222,
   "metadata": {},
   "outputs": [
    {
     "data": {
      "image/png": "[encoded data removed]",
      "text/plain": [
       "<Figure size 432x288 with 1 Axes>"
      ]
     },
     "metadata": {
      "needs_background": "light"
     },
     "output_type": "display_data"
    }
   ],
   "source": [
    "plt.plot(iter_record, dist_record);\n",
    "plt.xlabel(\"Iter Number\");\n",
    "plt.ylabel(\"Total Distance\");"
   ]
  }
 ],
 "metadata": {
  "kernelspec": {
   "display_name": "Python 3",
   "language": "python",
   "name": "python3"
  },
  "language_info": {
   "codemirror_mode": {
    "name": "ipython",
    "version": 3
   },
   "file_extension": ".py",
   "mimetype": "text/x-python",
   "name": "python",
   "nbconvert_exporter": "python",
   "pygments_lexer": "ipython3",
   "version": "3.6.8"
  }
 },
 "nbformat": 4,
 "nbformat_minor": 2
}
