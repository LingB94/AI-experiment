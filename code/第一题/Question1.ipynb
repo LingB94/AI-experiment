{
 "cells": [
  {
   "cell_type": "code",
   "execution_count": 10,
   "metadata": {},
   "outputs": [],
   "source": [
    "import pandas as pd;\n",
    "import numpy as np;\n",
    "import time;"
   ]
  },
  {
   "cell_type": "markdown",
   "metadata": {},
   "source": [
    "读取数据并生成邻接矩阵"
   ]
  },
  {
   "cell_type": "code",
   "execution_count": 11,
   "metadata": {},
   "outputs": [],
   "source": [
    "mat10 = np.zeros((10,10));\n",
    "mat100 = np.zeros((100, 100));\n",
    "data10 = pd.read_csv('TSP10cities.tsp', sep = ' ', header = None);\n",
    "data100 = pd.read_csv('TSP100cities.tsp', sep = ' ', header = None);"
   ]
  },
  {
   "cell_type": "code",
   "execution_count": 12,
   "metadata": {},
   "outputs": [],
   "source": [
    "for i in range(10):\n",
    "    for j in range(10):\n",
    "        x_dist = float(data10.iloc[i, 1]) - float(data10.iloc[j, 1]);\n",
    "        y_dist = float(data10.iloc[i, 2]) - float(data10.iloc[j, 2]);\n",
    "        mat10[i, j] = np.sqrt(pow(x_dist, 2) + pow(y_dist, 2));"
   ]
  },
  {
   "cell_type": "code",
   "execution_count": 13,
   "metadata": {},
   "outputs": [],
   "source": [
    "for i in range(100):\n",
    "    for j in range(100):\n",
    "        x_dist = float(data100.iloc[i, 1]) - float(data100.iloc[j, 1]);\n",
    "        y_dist = float(data100.iloc[i, 2]) - float(data100.iloc[j, 2]);\n",
    "        mat100[i, j] = np.sqrt(pow(x_dist, 2) + pow(y_dist, 2));      "
   ]
  },
  {
   "cell_type": "code",
   "execution_count": 14,
   "metadata": {},
   "outputs": [],
   "source": [
    "np.savetxt('data10.csv', mat10, delimiter = ',')\n",
    "np.savetxt('data100.csv', mat100, delimiter = ',')"
   ]
  },
  {
   "cell_type": "markdown",
   "metadata": {},
   "source": [
    "使用贪心算法解决TSP问题"
   ]
  },
  {
   "cell_type": "markdown",
   "metadata": {},
   "source": [
    "问题规模为n=10"
   ]
  },
  {
   "cell_type": "code",
   "execution_count": 15,
   "metadata": {},
   "outputs": [],
   "source": [
    "start = time.clock();\n",
    "city_visited = [0];\n",
    "total_dist = 0;\n",
    "INF = float(\"inf\");\n",
    "step = 1;\n",
    "nextCity = 1;\n",
    "while step < 10:\n",
    "    v = 1;\n",
    "    current_dist = INF;\n",
    "    while v < 10:\n",
    "        if (v not in city_visited) and (mat10[v][city_visited[-1]] < current_dist):\n",
    "            nextCity = v;\n",
    "            current_dist = mat10[v][city_visited[-1]];\n",
    "            \n",
    "        v += 1;\n",
    "    city_visited.append(nextCity);\n",
    "    total_dist += current_dist;\n",
    "    step += 1;\n",
    "total_dist += mat10[0][city_visited[-1]];\n",
    "city_visited.append(0);\n",
    "city_visited = [num + 1 for num in city_visited];\n",
    "end = time.clock();"
   ]
  },
  {
   "cell_type": "code",
   "execution_count": 16,
   "metadata": {},
   "outputs": [
    {
     "name": "stdout",
     "output_type": "stream",
     "text": [
      "n = 10时：\n",
      "所经过的总距离为： 10464.183487\n",
      "经过的城市序号为:  [1, 10, 9, 6, 4, 3, 2, 8, 5, 7, 1]\n",
      "程序运行时间： 0.001259797635952964\n"
     ]
    }
   ],
   "source": [
    "print(\"n = 10时：\")\n",
    "print(\"所经过的总距离为： %f\" % total_dist);\n",
    "print(\"经过的城市序号为: \", city_visited)\n",
    "print(\"程序运行时间： %s\" % (end - start))"
   ]
  },
  {
   "cell_type": "markdown",
   "metadata": {},
   "source": [
    "问题规模为n=100"
   ]
  },
  {
   "cell_type": "code",
   "execution_count": 17,
   "metadata": {},
   "outputs": [],
   "source": [
    "start = time.clock();\n",
    "city_visited = [0];\n",
    "total_dist = 0;\n",
    "INF = float(\"inf\");\n",
    "step = 1;\n",
    "nextCity = 1;\n",
    "while step < 100:\n",
    "    v = 1;\n",
    "    current_dist = INF;\n",
    "    while v < 100:\n",
    "        if (v not in city_visited) and (mat100[v][city_visited[-1]] < current_dist):\n",
    "            nextCity = v;\n",
    "            current_dist = mat100[v][city_visited[-1]];\n",
    "            \n",
    "        v += 1;\n",
    "    city_visited.append(nextCity);\n",
    "    total_dist += current_dist;\n",
    "    step += 1;\n",
    "total_dist += mat100[0][city_visited[-1]];\n",
    "city_visited.append(0);\n",
    "city_visited = [num + 1 for num in city_visited];\n",
    "end = time.clock();"
   ]
  },
  {
   "cell_type": "code",
   "execution_count": 19,
   "metadata": {},
   "outputs": [
    {
     "name": "stdout",
     "output_type": "stream",
     "text": [
      "n = 100时：\n",
      "总距离为： 28352.214389\n",
      "经过的城市序号为:  [1, 22, 73, 93, 46, 18, 33, 62, 17, 69, 53, 88, 26, 75, 39, 65, 51, 45, 64, 43, 15, 49, 21, 84, 61, 54, 87, 34, 89, 47, 2, 60, 71, 77, 72, 66, 57, 13, 95, 63, 79, 67, 50, 52, 40, 55, 10, 31, 58, 36, 30, 78, 28, 85, 92, 97, 27, 70, 20, 35, 4, 48, 42, 38, 25, 56, 8, 80, 44, 100, 24, 81, 98, 94, 74, 96, 29, 23, 59, 83, 91, 14, 9, 16, 76, 19, 3, 7, 41, 32, 37, 82, 12, 86, 11, 99, 90, 5, 6, 68, 1]\n",
      "程序运行时间： 0.01884235150089353\n"
     ]
    }
   ],
   "source": [
    "print(\"n = 100时：\")\n",
    "print(\"所经过的总距离为： %f\" % total_dist);\n",
    "print(\"经过的城市序号为: \", city_visited)\n",
    "print(\"程序运行时间： %s\" % (end - start))"
   ]
  },
  {
   "cell_type": "markdown",
   "metadata": {},
   "source": [
    "使用动态规划解决TSP问题"
   ]
  },
  {
   "cell_type": "markdown",
   "metadata": {},
   "source": [
    "问题规模为n = 10"
   ]
  },
  {
   "cell_type": "code",
   "execution_count": 24,
   "metadata": {},
   "outputs": [],
   "source": [
    "start = time.clock();\n",
    "num_city = mat10.shape[0]\n",
    "mat = np.zeros((num_city, num_city));\n",
    "dp_mat = np.zeros((num_city,1<<(num_city-1)));\n",
    "mat = mat10;\n",
    "for i in range(10):\n",
    "    mat[i][i] = INF;\n",
    "for i in range(num_city):\n",
    "    dp_mat[i][0] = mat[i][0];\n",
    "for j in range(1, (1<<(num_city-1))):\n",
    "    for i in range(num_city):\n",
    "        dp_mat[i,j]=INF;\n",
    "        if i>=1:\n",
    "            if ((j>>(i-1))&1)==1:\n",
    "                continue;\n",
    "        for k in range(1, num_city):\n",
    "            if ((j>>(k-1))&1)!=0:\n",
    "                if dp_mat[i,j]>float(mat[i,k])+dp_mat[k,j^(1<<(k-1))]:\n",
    "                    dp_mat[i,j]=float(mat[i,k])+dp_mat[k,j^(1<<(k-1))];\n",
    "end = time.clock();"
   ]
  },
  {
   "cell_type": "code",
   "execution_count": 26,
   "metadata": {},
   "outputs": [
    {
     "name": "stdout",
     "output_type": "stream",
     "text": [
      "n = 10时：\n",
      "所经过的总距离为： 10127.552144\n",
      "程序运行时间： 0.050572811126471606\n"
     ]
    }
   ],
   "source": [
    "print(\"n = 10时：\")\n",
    "print(\"所经过的总距离为： %f\" % dp_mat[0,(1<<(num_city-1))-1]);\n",
    "print(\"程序运行时间： %s\" % (end - start))"
   ]
  },
  {
   "cell_type": "markdown",
   "metadata": {},
   "source": [
    "问题规模为n = 100"
   ]
  },
  {
   "cell_type": "code",
   "execution_count": 27,
   "metadata": {},
   "outputs": [
    {
     "ename": "ValueError",
     "evalue": "Maximum allowed dimension exceeded",
     "output_type": "error",
     "traceback": [
      "\u001b[1;31m---------------------------------------------------------------------------\u001b[0m",
      "\u001b[1;31mValueError\u001b[0m                                Traceback (most recent call last)",
      "\u001b[1;32m<ipython-input-27-6b5480123e30>\u001b[0m in \u001b[0;36m<module>\u001b[1;34m\u001b[0m\n\u001b[0;32m      1\u001b[0m \u001b[0mnum_city\u001b[0m \u001b[1;33m=\u001b[0m \u001b[0mmat100\u001b[0m\u001b[1;33m.\u001b[0m\u001b[0mshape\u001b[0m\u001b[1;33m[\u001b[0m\u001b[1;36m0\u001b[0m\u001b[1;33m]\u001b[0m\u001b[1;33m\u001b[0m\u001b[1;33m\u001b[0m\u001b[0m\n\u001b[0;32m      2\u001b[0m \u001b[0mmat\u001b[0m \u001b[1;33m=\u001b[0m \u001b[0mnp\u001b[0m\u001b[1;33m.\u001b[0m\u001b[0mzeros\u001b[0m\u001b[1;33m(\u001b[0m\u001b[1;33m(\u001b[0m\u001b[0mnum_city\u001b[0m\u001b[1;33m,\u001b[0m \u001b[0mnum_city\u001b[0m\u001b[1;33m)\u001b[0m\u001b[1;33m)\u001b[0m\u001b[1;33m;\u001b[0m\u001b[1;33m\u001b[0m\u001b[1;33m\u001b[0m\u001b[0m\n\u001b[1;32m----> 3\u001b[1;33m \u001b[0mdp_mat\u001b[0m \u001b[1;33m=\u001b[0m \u001b[0mnp\u001b[0m\u001b[1;33m.\u001b[0m\u001b[0mzeros\u001b[0m\u001b[1;33m(\u001b[0m\u001b[1;33m(\u001b[0m\u001b[0mnum_city\u001b[0m\u001b[1;33m,\u001b[0m\u001b[1;36m1\u001b[0m\u001b[1;33m<<\u001b[0m\u001b[1;33m(\u001b[0m\u001b[0mnum_city\u001b[0m\u001b[1;33m-\u001b[0m\u001b[1;36m1\u001b[0m\u001b[1;33m)\u001b[0m\u001b[1;33m)\u001b[0m\u001b[1;33m)\u001b[0m\u001b[1;33m;\u001b[0m\u001b[1;33m\u001b[0m\u001b[1;33m\u001b[0m\u001b[0m\n\u001b[0m\u001b[0;32m      4\u001b[0m \u001b[0mstart\u001b[0m \u001b[1;33m=\u001b[0m \u001b[0mtime\u001b[0m\u001b[1;33m.\u001b[0m\u001b[0mclock\u001b[0m\u001b[1;33m(\u001b[0m\u001b[1;33m)\u001b[0m\u001b[1;33m;\u001b[0m\u001b[1;33m\u001b[0m\u001b[1;33m\u001b[0m\u001b[0m\n\u001b[0;32m      5\u001b[0m \u001b[0mnum_city\u001b[0m \u001b[1;33m=\u001b[0m \u001b[0mmat100\u001b[0m\u001b[1;33m.\u001b[0m\u001b[0mshape\u001b[0m\u001b[1;33m[\u001b[0m\u001b[1;36m0\u001b[0m\u001b[1;33m]\u001b[0m\u001b[1;33m\u001b[0m\u001b[1;33m\u001b[0m\u001b[0m\n",
      "\u001b[1;31mValueError\u001b[0m: Maximum allowed dimension exceeded"
     ]
    }
   ],
   "source": [
    "num_city = mat100.shape[0]\n",
    "mat = np.zeros((num_city, num_city));\n",
    "dp_mat = np.zeros((num_city,1<<(num_city-1)));\n",
    "start = time.clock();\n",
    "num_city = mat100.shape[0]\n",
    "mat = np.zeros((num_city, num_city));\n",
    "dp_mat = np.zeros((num_city,1<<(num_city-1)));\n",
    "mat = mat100;\n",
    "for i in range(num_city):\n",
    "    mat[i][i] = INF;\n",
    "for i in range(num_city):\n",
    "    dp_mat[i][0] = mat[i][0];\n",
    "for j in range(1, (1<<(num_city-1))):\n",
    "    for i in range(num_city):\n",
    "        dp_mat[i,j]=INF;\n",
    "        if i>=1:\n",
    "            if ((j>>(i-1))&1)==1:\n",
    "                continue;\n",
    "        for k in range(1, num_city):\n",
    "            if ((j>>(k-1))&1)!=0:\n",
    "                if dp_mat[i,j]>float(mat[i,k])+dp_mat[k,j^(1<<(k-1))]:\n",
    "                    dp_mat[i,j]=float(mat[i,k])+dp_mat[k,j^(1<<(k-1))];\n",
    "end = time.clock();"
   ]
  },
  {
   "cell_type": "markdown",
   "metadata": {},
   "source": [
    "使用分支界限解决TSP问题"
   ]
  },
  {
   "cell_type": "markdown",
   "metadata": {},
   "source": [
    "问题规模为n = 10"
   ]
  },
  {
   "cell_type": "code",
   "execution_count": 63,
   "metadata": {},
   "outputs": [],
   "source": [
    "num_city = mat10.shape[0]\n",
    "mat = np.zeros((num_city, num_city));\n",
    "mat = mat10;\n",
    "for i in range(num_city):\n",
    "    mat[i][i] = INF;"
   ]
  },
  {
   "cell_type": "code",
   "execution_count": 64,
   "metadata": {},
   "outputs": [],
   "source": [
    "from queue import Queue;\n",
    "class node:\n",
    "    def __init__(self):\n",
    "        self.start = 0;\n",
    "        self.end = 0;\n",
    "        self.k = 1;\n",
    "        self.total_dist = 0;\n",
    "        self.part_low = 0;\n",
    "        self.visited = [0] * num_city;\n",
    "        self.path = [];\n",
    "up = 0;\n",
    "low = 0;\n",
    "used = [0] * num_city;\n",
    "q = Queue();\n",
    "used[0] = 1;"
   ]
  },
  {
   "cell_type": "code",
   "execution_count": 65,
   "metadata": {},
   "outputs": [],
   "source": [
    "def up_bound():\n",
    "    global up;\n",
    "    up = dfs(0, 0, 0);"
   ]
  },
  {
   "cell_type": "code",
   "execution_count": 66,
   "metadata": {},
   "outputs": [],
   "source": [
    "def low_bound():\n",
    "    global low;\n",
    "    for i in range(num_city):\n",
    "        tmp = mat[i].copy();\n",
    "        tmp.sort();\n",
    "        low = low + tmp[0] + tmp[1];\n",
    "    low = low / 2;"
   ]
  },
  {
   "cell_type": "code",
   "execution_count": 67,
   "metadata": {},
   "outputs": [],
   "source": [
    "def get_part_low(v):\n",
    "    result = 2 * v.total_dist;\n",
    "    min1 = INF;\n",
    "    min2 = INF;\n",
    "    for i in range(num_city):\n",
    "        if(v.visited[i] == 0 and min1 > mat[v.start][i]):\n",
    "            min1 = mat[v.start][i];\n",
    "    result += min1;\n",
    "    for i in range(num_city):\n",
    "        if(v.visited[i] == 0 and min2 > mat[v.end][i]):\n",
    "            min2 = mat[v.end][i];\n",
    "    result += min2;\n",
    "    for i in range(num_city):\n",
    "        if(v.visited[i] == 0):\n",
    "            min1 = INF;\n",
    "            min2 = INF;\n",
    "            for j in range(num_city):\n",
    "                if(min1 > mat[i][j]):\n",
    "                    min1 = mat[i][j];\n",
    "            for j in range(num_city):\n",
    "                if(min2 > mat[i][j]):\n",
    "                    min2 = mat[i][j];\n",
    "            result += min1 + min2;\n",
    "    return result / 2;"
   ]
  },
  {
   "cell_type": "code",
   "execution_count": 68,
   "metadata": {},
   "outputs": [],
   "source": [
    "def dfs(v, j, length):\n",
    "    if(j == num_city - 1):\n",
    "        return length + mat[0][v];\n",
    "    minLength = INF;\n",
    "    pos = 0;\n",
    "    for i in range(num_city):\n",
    "        if(used[i] == 0 and minLength > mat[i][v]):\n",
    "            minLength = mat[i][v];\n",
    "            pos = i;\n",
    "    used[pos] = 1;\n",
    "    return dfs(pos, j+1, length + minLength);   "
   ]
  },
  {
   "cell_type": "code",
   "execution_count": 69,
   "metadata": {},
   "outputs": [],
   "source": [
    "def compute():\n",
    "    global up;\n",
    "    up_bound();\n",
    "    low_bound();\n",
    "    v = node();\n",
    "    v.visited[0] = 1;\n",
    "    v.path.append(0);\n",
    "    v.part_low = low;\n",
    "    result = INF;\n",
    "    q.put(v);\n",
    "    next_node = node();\n",
    "    while(q.empty() == False):\n",
    "        tmp = q.get();\n",
    "        if(tmp.k == num_city - 1):\n",
    "            pos = 0;\n",
    "            for i in range(num_city):\n",
    "                if(tmp.visited[i] == 0):\n",
    "                    pos = i;\n",
    "                    break;\n",
    "            ans = tmp.total_dist + mat[pos][tmp.start] + mat[pos][tmp.end];\n",
    "            if(ans <= tmp.part_low):\n",
    "                result = min(ans, result);\n",
    "                break;\n",
    "            else:\n",
    "                up = min(up, ans);\n",
    "                result = min(ans, result);\n",
    "                continue;\n",
    "        for i in range(num_city):\n",
    "            if(tmp.visited[i] == 0):\n",
    "                next_node = node();\n",
    "                next_node.start = tmp.start;\n",
    "                next_node.total_dist = tmp.total_dist + mat[i][tmp.end];\n",
    "                next_node.end = i;\n",
    "                next_node.k = tmp.k + 1;\n",
    "                next_node.visited = tmp.visited.copy();\n",
    "                next_node.visited[i] = 1;\n",
    "                next_node.path = tmp.path.copy();\n",
    "                next_node.path.append(i);\n",
    "                next_node.part_low = get_part_low(next_node);\n",
    "                if(next_node.part_low >= up):\n",
    "                    continue;\n",
    "                q.put(next_node);\n",
    "    return result,tmp;"
   ]
  },
  {
   "cell_type": "code",
   "execution_count": 70,
   "metadata": {},
   "outputs": [],
   "source": [
    "start = time.clock()\n",
    "dist,vex=compute()\n",
    "end = time.clock()"
   ]
  },
  {
   "cell_type": "code",
   "execution_count": 71,
   "metadata": {
    "scrolled": true
   },
   "outputs": [
    {
     "name": "stdout",
     "output_type": "stream",
     "text": [
      "n = 10时：\n",
      "所经过的总距离为： 10127.552144\n",
      "经过的城市序号为:  [0, 9, 8, 5, 3, 2, 1, 7, 6]\n",
      "程序运行时间： 0.3125276620726254\n"
     ]
    }
   ],
   "source": [
    "print(\"n = 10时：\")\n",
    "print(\"所经过的总距离为： %f\" % dist);\n",
    "print(\"经过的城市序号为: \", vex.path)\n",
    "print(\"程序运行时间： %s\" % (end - start))"
   ]
  },
  {
   "cell_type": "markdown",
   "metadata": {},
   "source": [
    "问题规模为n = 100"
   ]
  },
  {
   "cell_type": "code",
   "execution_count": 84,
   "metadata": {},
   "outputs": [],
   "source": [
    "num_city = mat100.shape[0]\n",
    "mat = np.zeros((num_city, num_city));\n",
    "mat = mat100;\n",
    "for i in range(num_city):\n",
    "    mat[i][i] = INF;\n",
    "class node:\n",
    "    def __init__(self):\n",
    "        self.start = 0;\n",
    "        self.end = 0;\n",
    "        self.k = 1;\n",
    "        self.total_dist = 0;\n",
    "        self.part_low = 0;\n",
    "        self.visited = [0] * num_city;\n",
    "        self.path = [];\n",
    "up = 0;\n",
    "low = 0;\n",
    "used = [0] * num_city;\n",
    "q = Queue();\n",
    "used[0] = 1;"
   ]
  },
  {
   "cell_type": "markdown",
   "metadata": {},
   "source": [
    "一下代码无法在有效时间内运行完成"
   ]
  },
  {
   "cell_type": "code",
   "execution_count": null,
   "metadata": {},
   "outputs": [],
   "source": [
    "start = time.clock()\n",
    "dist,vex=compute()\n",
    "end = time.clock()"
   ]
  }
 ],
 "metadata": {
  "kernelspec": {
   "display_name": "Python 3",
   "language": "python",
   "name": "python3"
  },
  "language_info": {
   "codemirror_mode": {
    "name": "ipython",
    "version": 3
   },
   "file_extension": ".py",
   "mimetype": "text/x-python",
   "name": "python",
   "nbconvert_exporter": "python",
   "pygments_lexer": "ipython3",
   "version": "3.6.8"
  }
 },
 "nbformat": 4,
 "nbformat_minor": 2
}
